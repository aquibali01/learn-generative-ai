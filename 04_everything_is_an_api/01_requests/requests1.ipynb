{
 "cells": [
  {
   "cell_type": "code",
   "execution_count": 16,
   "metadata": {},
   "outputs": [],
   "source": [
    "import requests\n"
   ]
  },
  {
   "cell_type": "code",
   "execution_count": 25,
   "metadata": {},
   "outputs": [
    {
     "data": {
      "text/plain": [
       "'Response'"
      ]
     },
     "metadata": {},
     "output_type": "display_data"
    },
    {
     "data": {
      "text/plain": [
       "<Response [200]>"
      ]
     },
     "metadata": {},
     "output_type": "display_data"
    },
    {
     "name": "stdout",
     "output_type": "stream",
     "text": [
      "Status_code 200\n",
      "Json_obj {'status': 'OK'}\n",
      "Text {\"status\":\"OK\"}\n",
      "headers {'Date': 'Wed, 19 Jun 2024 16:00:29 GMT', 'Content-Type': 'application/json; charset=utf-8', 'Content-Length': '15', 'Connection': 'keep-alive', 'x-powered-by': 'Express', 'etag': 'W/\"f-v/Y1JusChTxrQUzPtNAKycooOTA\"'}\n"
     ]
    }
   ],
   "source": [
    "from requests.models import Response\n",
    "from requests.structures import CaseInsensitiveDict\n",
    "\n",
    "response: Response = requests.get('https://simple-books-api.glitch.me/status')\n",
    "display(\"Response\",response)\n",
    "\n",
    "status_code : int = response.status_code\n",
    "print(\"Status_code\",status_code)\n",
    "\n",
    "json_obj : dict = response.json()\n",
    "print(\"Json_obj\",json_obj)\n",
    "\n",
    "text : str = response.text\n",
    "print(\"Text\", text)\n",
    "\n",
    "headers : CaseInsensitiveDict = response.headers\n",
    "print(\"headers\", headers)"
   ]
  }
 ],
 "metadata": {
  "kernelspec": {
   "display_name": "Python 3",
   "language": "python",
   "name": "python3"
  },
  "language_info": {
   "codemirror_mode": {
    "name": "ipython",
    "version": 3
   },
   "file_extension": ".py",
   "mimetype": "text/x-python",
   "name": "python",
   "nbconvert_exporter": "python",
   "pygments_lexer": "ipython3",
   "version": "3.12.4"
  }
 },
 "nbformat": 4,
 "nbformat_minor": 2
}
